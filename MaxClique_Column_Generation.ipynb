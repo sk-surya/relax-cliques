{
 "cells": [
  {
   "cell_type": "code",
   "execution_count": 120,
   "metadata": {
    "ExecuteTime": {
     "end_time": "2020-10-29T14:24:40.025901Z",
     "start_time": "2020-10-29T14:24:40.021877Z"
    }
   },
   "outputs": [],
   "source": [
    "import gurobipy as gp\n",
    "from gurobipy import GRB\n",
    "import networkx as nx\n",
    "import numpy as np\n",
    "import datetime\n",
    "import time\n",
    "\n",
    "import random\n",
    "import math\n",
    "from matplotlib import pyplot as plt"
   ]
  },
  {
   "cell_type": "code",
   "execution_count": 132,
   "metadata": {
    "ExecuteTime": {
     "end_time": "2020-10-29T14:26:24.425465Z",
     "start_time": "2020-10-29T14:26:24.406551Z"
    }
   },
   "outputs": [
    {
     "name": "stdout",
     "output_type": "stream",
     "text": [
      "c-fat200-5\n"
     ]
    }
   ],
   "source": [
    "#path = r\"\"\"F:\\Research\\Problem sets\\Coloring\\myciel4.col.txt\"\"\"\n",
    "# path = r\"\"\"F:\\Research\\Problem sets\\Coloring\\Instances\\DSJR500.5.col\"\"\"\n",
    "# path = r\"\"\"F:\\Research\\Problem sets\\Max Clique\\DIMACS_all_ascii\\c-fat500-2.clq\"\"\" # needs investigation\n",
    "#path = r\"\"\"E:\\Downloads\\all-instaces.tar\\1-FullIns_5.col\"\"\"\n",
    "\n",
    "p_start_t = time.time()\n",
    "\n",
    "INSTANCES_PATH = r\"\"\"F:\\Research\\Problem sets\\Max Clique\\DIMACS_all_ascii\"\"\"\n",
    "OUT_LP_PATH = r\"\"\"F:\\Research\\Problem sets\\Coloring\\CP\\OutputLP\"\"\"\n",
    "SOLVER_LOG_PATH = r\"\"\"F:\\Research\\Problem sets\\Coloring\\CP\\SolverLog\"\"\"\n",
    "\n",
    "instance_name = \"c-fat200-5\"  #str(sys.argv[1])\n",
    "\n",
    "filename = instance_name + r\"\"\".clq\"\"\"\n",
    "# MAX_TIME_LIMIT_SECS = int(sys.argv[2]) #10\n",
    "path = INSTANCES_PATH + '\\\\' + filename\n",
    "print(instance_name)\n",
    "\n",
    "#assert(PRE_PROCESS == help_with_bounds)\n",
    "\n",
    "f = open(path, \"r\")\n",
    "input = f.read()\n",
    "f.close()\n",
    "#print(input)\n",
    "words = input.split()\n",
    "for idx, word in enumerate(words):\n",
    "    if word == 'p':\n",
    "        break\n",
    "\n",
    "parse1 = [int(i) for i in words[idx + 2:] if i != 'e']\n",
    "\n",
    "num_v = parse1[0]\n",
    "num_e = parse1[1]\n",
    "parse1 = parse1[2:]\n",
    "\n",
    "parse2 = []\n",
    "for i in range(len(parse1) // 2):\n",
    "    parse2.append((parse1[2 * i], parse1[2 * i + 1]))"
   ]
  },
  {
   "cell_type": "code",
   "execution_count": 146,
   "metadata": {
    "ExecuteTime": {
     "end_time": "2020-10-29T14:26:57.716588Z",
     "start_time": "2020-10-29T14:26:57.702626Z"
    }
   },
   "outputs": [
    {
     "name": "stdout",
     "output_type": "stream",
     "text": [
      "Number of nodes: 200\n",
      "Number of edges: 8473\n"
     ]
    }
   ],
   "source": [
    "graph = nx.Graph()\n",
    "graph.add_nodes_from(range(1, num_v + 1))\n",
    "graph.add_edges_from(parse2)\n",
    "print(f\"Number of nodes: {len(graph.nodes)}\")\n",
    "print(f\"Number of edges: {len(graph.edges)}\")"
   ]
  },
  {
   "cell_type": "code",
   "execution_count": 147,
   "metadata": {
    "ExecuteTime": {
     "end_time": "2020-10-29T14:26:58.164110Z",
     "start_time": "2020-10-29T14:26:57.845982Z"
    }
   },
   "outputs": [],
   "source": [
    "I = list(nx.find_cliques(nx.complement(graph)))"
   ]
  },
  {
   "cell_type": "code",
   "execution_count": 148,
   "metadata": {
    "ExecuteTime": {
     "end_time": "2020-10-29T14:26:59.863777Z",
     "start_time": "2020-10-29T14:26:58.165103Z"
    }
   },
   "outputs": [],
   "source": [
    "# Adding variables\n",
    "m = gp.Model('Clique')\n",
    "isBIP = False\n",
    "var_type = (GRB.BINARY if isBIP == True else GRB.CONTINUOUS)\n",
    "\n",
    "x = m.addVars(graph.nodes, vtype=var_type, lb=0, ub=1, name='x')\n",
    "\n",
    "m.setObjective(x.sum(), GRB.MAXIMIZE)\n",
    "\n",
    "\n",
    "for i in range(len(I)):\n",
    "    # generate a max ind set containing node i\n",
    "    ind_set = I[i]\n",
    "    m.addConstr(\n",
    "        gp.quicksum(x[i] for i in ind_set) <= 1\n",
    "    )\n",
    "#\"\"\"    \n",
    "#m.addConstrs(x[i] + x[j] <= 1 for (i,j) in nx.complement(graph).edges)    "
   ]
  },
  {
   "cell_type": "code",
   "execution_count": 149,
   "metadata": {
    "ExecuteTime": {
     "end_time": "2020-10-29T14:27:01.883396Z",
     "start_time": "2020-10-29T14:26:59.864778Z"
    }
   },
   "outputs": [
    {
     "name": "stdout",
     "output_type": "stream",
     "text": [
      "Gurobi Optimizer version 9.0.0 build v9.0.0rc2 (win64)\n",
      "Optimize a model with 163212 rows, 200 columns and 489636 nonzeros\n",
      "Model fingerprint: 0xd739528a\n",
      "Coefficient statistics:\n",
      "  Matrix range     [1e+00, 1e+00]\n",
      "  Objective range  [1e+00, 1e+00]\n",
      "  Bounds range     [1e+00, 1e+00]\n",
      "  RHS range        [1e+00, 1e+00]\n",
      "Presolve time: 0.14s\n",
      "Presolved: 200 rows, 163412 columns, 489836 nonzeros\n",
      "\n",
      "Iteration    Objective       Primal Inf.    Dual Inf.      Time\n",
      "       0    2.0000000e+02   0.000000e+00   7.308000e+03      0s\n",
      "  163218    6.6666667e+01   0.000000e+00   0.000000e+00      2s\n",
      "\n",
      "Solved in 163218 iterations and 1.97 seconds\n",
      "Optimal objective  6.666666667e+01\n"
     ]
    }
   ],
   "source": [
    "m.optimize()"
   ]
  },
  {
   "cell_type": "code",
   "execution_count": 150,
   "metadata": {
    "ExecuteTime": {
     "end_time": "2020-10-29T14:27:01.985254Z",
     "start_time": "2020-10-29T14:27:01.885376Z"
    }
   },
   "outputs": [],
   "source": [
    "# Adding variables\n",
    "m = gp.Model('Clique')\n",
    "isBIP = False\n",
    "var_type = (GRB.BINARY if isBIP == True else GRB.CONTINUOUS)\n",
    "\n",
    "x = m.addVars(graph.nodes, vtype=var_type, lb=0, ub=1, name='x')\n",
    "\n",
    "m.setObjective(x.sum(), GRB.MAXIMIZE)\n",
    "\n",
    "ind_sets = []\n",
    "for i in graph.nodes:\n",
    "    # generate a max ind set containing node i\n",
    "    ind_set = nx.maximal_independent_set(graph, [i])\n",
    "    ind_sets.append(ind_set)\n",
    "    m.addConstr(\n",
    "        gp.quicksum(x[i] for i in ind_set) <= 1\n",
    "    )"
   ]
  },
  {
   "cell_type": "code",
   "execution_count": 151,
   "metadata": {
    "ExecuteTime": {
     "end_time": "2020-10-29T14:27:02.090987Z",
     "start_time": "2020-10-29T14:27:01.986107Z"
    }
   },
   "outputs": [],
   "source": [
    "sub = gp.Model('CGSP')\n",
    "isBIP = True\n",
    "var_type = (GRB.BINARY if isBIP == True else GRB.CONTINUOUS)\n",
    "\n",
    "y = sub.addVars(graph.nodes, vtype=var_type, lb=0, ub=1, obj=1, name='y')\n",
    "\n",
    "sub.addConstrs(y[i] + y[j] <= 1 for (i,j) in graph.edges)\n",
    "\n",
    "sub.ModelSense = GRB.MAXIMIZE\n",
    "#m.setObjective(y.sum(), GRB.MAXIMIZE)"
   ]
  },
  {
   "cell_type": "code",
   "execution_count": 152,
   "metadata": {
    "ExecuteTime": {
     "end_time": "2020-10-29T14:27:02.101798Z",
     "start_time": "2020-10-29T14:27:02.091825Z"
    }
   },
   "outputs": [
    {
     "name": "stdout",
     "output_type": "stream",
     "text": [
      "Discarded solution information\n",
      "Discarded solution information\n",
      "Changed value of parameter TimeLimit to 2.0\n",
      "   Prev: inf  Min: 0.0  Max: inf  Default: inf\n",
      "Changed value of parameter Heuristics to 1.0\n",
      "   Prev: 0.05  Min: 0.0  Max: 1.0  Default: 0.05\n",
      "Reset all parameters\n"
     ]
    }
   ],
   "source": [
    "\n",
    "m.reset()\n",
    "sub.reset()\n",
    "sub.Params.TimeLimit = 2\n",
    "#sub.Params.Cutoff = 1\n",
    "#sub.Params.mipFocus = 0\n",
    "#sub.Params.ConcurrentMIP = 1\n",
    "sub.Params.Heuristics = 1\n",
    "sub.resetParams()\n",
    "m.setParam('OutputFlag', 0)\n",
    "sub.setParam('OutputFlag', 0)"
   ]
  },
  {
   "cell_type": "code",
   "execution_count": 153,
   "metadata": {
    "ExecuteTime": {
     "end_time": "2020-10-29T14:27:02.106784Z",
     "start_time": "2020-10-29T14:27:02.103792Z"
    }
   },
   "outputs": [],
   "source": [
    "resolve = True\n",
    "count = 0"
   ]
  },
  {
   "cell_type": "code",
   "execution_count": 154,
   "metadata": {
    "ExecuteTime": {
     "end_time": "2020-10-29T14:27:02.377065Z",
     "start_time": "2020-10-29T14:27:02.107782Z"
    }
   },
   "outputs": [
    {
     "name": "stdout",
     "output_type": "stream",
     "text": [
      "78.3\n",
      "3.0\n",
      "78.3\n",
      "3.0\n",
      "76.76923076923079\n",
      "3.0\n",
      "76.33333333333337\n",
      "3.0\n",
      "76.00602409638554\n",
      "3.0\n",
      "75.76923076923077\n",
      "3.0\n",
      "75.46052631578945\n",
      "3.0\n",
      "74.39285714285715\n",
      "3.0\n",
      "74.23287671232879\n",
      "3.0\n",
      "73.39353233830845\n",
      "3.0\n",
      "72.68092105263155\n",
      "3.0\n",
      "71.47713120034356\n",
      "2.7610049388018036\n",
      "70.91810132808659\n",
      "2.71947860304968\n",
      "70.14315086518849\n",
      "2.6416540561879076\n",
      "69.57462589459988\n",
      "2.8683409238776836\n",
      "68.8600374064838\n",
      "2.767456359102245\n",
      "68.50290303326278\n",
      "2.8069347224483154\n",
      "68.10755705577107\n",
      "2.626858783817825\n",
      "67.90514081358964\n",
      "2.6088141445593696\n",
      "67.64526648773003\n",
      "2.7051476226993874\n",
      "67.50318787010836\n",
      "2.455839220236224\n",
      "67.39344090867273\n",
      "2.513816257181106\n",
      "67.2727656134678\n",
      "2.5712695790719193\n",
      "67.22927058450017\n",
      "2.507089601735174\n",
      "67.10751324225201\n",
      "2.0218377671626944\n",
      "67.03160933311945\n",
      "2.289819723868564\n",
      "66.86825612232458\n",
      "2.318061228100854\n",
      "66.7394696438796\n",
      "2.070599798327609\n",
      "66.66666666666664\n",
      "1.3333333333333302\n",
      "66.66666666666667\n",
      "1.0\n",
      "LP Optimal\n",
      "66.66666666666667\n"
     ]
    }
   ],
   "source": [
    "upper_bound_list = []\n",
    "reduced_cost_list = []\n",
    "while resolve:\n",
    "    count += 1\n",
    "    m.update()\n",
    "    m.optimize()\n",
    "    upper_bound_list.append(m.objVal)\n",
    "    print(m.objVal)\n",
    "    weights = np.array(m.getAttr(GRB.Attr.X))\n",
    "    #print(weights)\n",
    "    #sub.reset()\n",
    "    y = sub.getVars()\n",
    "    for i in range(len(y)):\n",
    "        y[i-1].setAttr('obj', weights[i-1])\n",
    "    #sub.reset()\n",
    "    sub.optimize()\n",
    "    print(sub.objVal)\n",
    "    reduced_cost_list.append(sub.ObjVal)\n",
    "    if sub.objVal - 1 > 1e-4:\n",
    "        # adding row\n",
    "        new_row = np.array(sub.getAttr(GRB.Attr.X))\n",
    "        new_ind_set = np.where(new_row > 0)[0] + 1\n",
    "        #print(new_ind_set)\n",
    "        \n",
    "        x = m.getVars()\n",
    "        m.addConstr(\n",
    "            gp.quicksum(x[i-1] for i in new_ind_set) <= 1\n",
    "        )\n",
    "        m.update()\n",
    "    else:\n",
    "        #assert(1==0)\n",
    "        print(\"LP Optimal\")\n",
    "        resolve = False\n",
    "print(m.ObjVal)"
   ]
  },
  {
   "cell_type": "code",
   "execution_count": 156,
   "metadata": {
    "ExecuteTime": {
     "end_time": "2020-10-29T14:27:35.152415Z",
     "start_time": "2020-10-29T14:27:34.935994Z"
    }
   },
   "outputs": [
    {
     "data": {
      "image/png": "[encoded data removed]",
      "text/plain": [
       "<Figure size 1080x504 with 2 Axes>"
      ]
     },
     "metadata": {
      "needs_background": "light"
     },
     "output_type": "display_data"
    }
   ],
   "source": [
    "#print(upper_bound_list)\n",
    "#reduced_cost_list\n",
    "f, (ax1, ax2) = plt.subplots(1, 2, figsize=(15, 7))\n",
    "ax1.plot(upper_bound_list)\n",
    "ax1.set_ylabel('Objective value UB')\n",
    "ax1.set_xlabel('Iteration')\n",
    "#ax1.set_title('')\n",
    "ax2.plot(reduced_cost_list)\n",
    "ax2.set_xlabel('Iteration')\n",
    "ax2.set_ylabel('Reduced Cost')\n",
    "#ax2.set_title('')\n",
    "plt.show()"
   ]
  },
  {
   "cell_type": "code",
   "execution_count": 157,
   "metadata": {
    "ExecuteTime": {
     "end_time": "2020-10-29T14:27:40.193152Z",
     "start_time": "2020-10-29T14:27:40.189163Z"
    }
   },
   "outputs": [
    {
     "name": "stdout",
     "output_type": "stream",
     "text": [
      "\n",
      "Statistics for model Clique :\n",
      "  Linear constraint matrix    : 229 Constrs, 200 Vars, 687 NZs\n",
      "  Matrix coefficient range    : [ 1, 1 ]\n",
      "  Objective coefficient range : [ 1, 1 ]\n",
      "  Variable bound range        : [ 1, 1 ]\n",
      "  RHS coefficient range       : [ 1, 1 ]\n"
     ]
    }
   ],
   "source": [
    "m.printStats()"
   ]
  }
 ],
 "metadata": {
  "kernelspec": {
   "display_name": "Python 3",
   "language": "python",
   "name": "python3"
  },
  "language_info": {
   "codemirror_mode": {
    "name": "ipython",
    "version": 3
   },
   "file_extension": ".py",
   "mimetype": "text/x-python",
   "name": "python",
   "nbconvert_exporter": "python",
   "pygments_lexer": "ipython3",
   "version": "3.7.10"
  }
 },
 "nbformat": 4,
 "nbformat_minor": 4
}
